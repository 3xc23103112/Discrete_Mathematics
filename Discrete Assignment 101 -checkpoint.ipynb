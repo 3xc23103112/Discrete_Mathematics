{
 "cells": [
  {
   "cell_type": "markdown",
   "id": "450f4b3f-6482-49c5-9886-2af160980cdc",
   "metadata": {},
   "source": [
    "#1.Proving Identities"
   ]
  },
  {
   "cell_type": "markdown",
   "id": "03692b42-06d0-4ece-ab2a-d308b5c7a18e",
   "metadata": {},
   "source": [
    "Given: \"\\(A\\) and \\(B\\) are sets,\"\"\\(\\exists x\\) such that\" \"\\((x \\in A \\land x \\in B)\\)\""
   ]
  },
  {
   "cell_type": "markdown",
   "id": "983596dd-ba6c-47d9-92ed-e0f9efe5986c",
   "metadata": {},
   "source": [
    "\\documentclass{article}\n",
    "\\usepackage{amsmath}\n",
    "\n",
    "\\begin{document}\n",
    "\n",
    "\\section*{Proofs for Given Equations}\n",
    "\n",
    "\\subsection*{Proof for $A \\setminus B = A \\cap B^c$}\n",
    "\\begin{align*}\n",
    "A \\setminus B &= \\{ x \\mid x \\in A \\text{ and } x \\notin B \\} \\\\\n",
    "&= \\{ x \\mid (x \\in A \\text{ and } x \\in B') \\} \\\\\n",
    "&= A \\cap B' \\quad \\text{(by definition of set difference)} \\\\\n",
    "&= A \\cap (B \\cap B^c) \\quad \\text{(by complement law)} \\\\\n",
    "&= (A \\cap B) \\cap B^c \\quad \\text{(by associativity)} \\\\\n",
    "&= A \\cap B^c \\quad \\text{(since } (A \\cap B) \\subseteq B \\text{ and } B \\cap B^c = \\emptyset)\n",
    "\\end{align*}\n",
    "\n",
    "\\subsection*{Proof for $B = (B \\cap A) \\cup (B \\cap A^c)$}\n",
    "\\begin{align*}\n",
    "(B \\cap A) \\cup (B \\cap A^c) &= \\{ x \\mid (x \\in B \\text{ and } x \\in A) \\text{ or } (x \\in B \\text{ and } x \\notin A) \\} \\\\\n",
    "&= \\{ x \\mid x \\in B \\} \\quad \\text{(since } x \\in A \\text{ and } x \\in B \\text{ implies } x \\in B) \\\\\n",
    "&= B\n",
    "\\end{align*}\n",
    "\n",
    "\\subsection*{Proof for $B \\setminus A = B \\cap A^c$}\n",
    "\\begin{align*}\n",
    "B \\setminus A &= \\{ x \\mid x \\in B \\text{ and } x \\notin A \\} \\\\\n",
    "&= \\{ x \\mid (x \\in B \\text{ and } x \\in A') \\} \\\\\n",
    "&= B \\cap A' \\quad \\text{(by definition of set difference)} \\\\\n",
    "&= B \\cap (A \\cap A^c) \\quad \\text{(by complement law)} \\\\\n",
    "&= (B \\cap A) \\cap A^c \\quad \\text{(by associativity)} \\\\\n",
    "&= B \\cap A^c \\quad \\text{(since } (B \\cap A) \\subseteq A \\text{ and } A \\cap A^c = \\emptyset)\n",
    "\\end{align*}\n",
    "\n",
    "\\subsection*{Proof for $A \\cup B = A \\cup (B \\cap A^c)$}\n",
    "\\begin{align*}\n",
    "A \\cup B &= \\{ x \\mid x \\in A \\text{ or } x \\in B \\} \\\\\n",
    "&= \\{ x \\mid (x \\in A \\text{ or } (x \\in B \\text{ and } x \\notin A)) \\} \\\\\n",
    "&= \\{ x \\mid (x \\in A \\text{ or } x \\in B) \\text{ and } (x \\in A \\text{ or } x \\notin A) \\} \\\\\n",
    "&= \\{ x \\mid x \\in A \\text{ or } x \\in B \\} \\\\\n",
    "&= A \\cup (B \\cap A^c) \\quad \\text{(since } x \\in A \\text{ or } x \\notin A \\text{ is always true)}\n",
    "\\end{align*}\n",
    "\n",
    "\\subsection*{Proof for $\\left( \\bigcup_{i=1}^{\\infty} A_i^c \\right)^c = \\bigcap_{i=1}^{\\infty} A_i$}\n",
    "Let $x$ be an element in $\\left( \\bigcup_{i=1}^{\\infty} A_i^c \\right)^c$, which means $x$ is in the complement of the union of all $A_i^c$. This implies $x$ is not in the complement of at least one of the sets $A_1^c, A_2^c, \\ldots$. In other words, $x$ is in at least one of the sets $A_1, A_2, \\ldots$, and thus:\n",
    "\\[x \\in \\bigcap_{i=1}^{\\infty} A_i\\]\n",
    "\n",
    "Conversely, let $x$ be an element in $\\bigcap_{i=1}^{\\infty} A_i$. This means $x$ is in every set $A_i$, which implies $x$ is not in the complement of any $A_i^c$. Hence, $x$ is not in the union of any $A_i^c$, and we have:\n",
    "\\[x \\in \\left( \\bigcup_{i=1}^{\\infty} A_i^c \\right)^c\\]\n",
    "\n",
    "Thus, the sets $\\left( \\bigcup_{i=1}^{\\infty} A_i^c \\right)^c$ and $\\bigcap_{i=1}^{\\infty} A_i$ contain the same elements, and they are equal.\n",
    "\n",
    "\\subsection*{Proof for $|A \\cup B| = |A| + |B| - |A \\cap B|$}\n",
    "The formula $|A \\cup B| = |A| + |B| - |A \\cap B|$ is known as the inclusion-exclusion principle. It can be proven using basic principles of set cardinality and set operations. However, the full proof involves considering the sizes of different subsets and overlaps, and it can get quite detailed.\n",
    "\n",
    "\\end{document}\n"
   ]
  },
  {
   "cell_type": "code",
   "execution_count": 23,
   "id": "dbf054de-e6b2-4b3c-b479-10b470139854",
   "metadata": {},
   "outputs": [
    {
     "name": "stdout",
     "output_type": "stream",
     "text": [
      "A \\ B = {1, 2}\n",
      "Expected: {1, 2}\n",
      "B = {3, 4, 5, 6}\n",
      "Expected: {3, 4}\n",
      "B \\ A = {5, 6}\n",
      "Expected: set()\n",
      "A ∪ B = {1, 2, 3, 4, 5, 6}\n",
      "Expected: {1, 2, 3, 4}\n",
      "|A ∪ B| = 6\n",
      "Expected: 6\n"
     ]
    }
   ],
   "source": [
    "# Given are example of the sets A and B with variables\n",
    "A = {1, 2, 3, 4}\n",
    "B = {3, 4, 5, 6}\n",
    "\n",
    "# A \\ B = A ∩ B^c\n",
    "result1 = A - B\n",
    "result1_expected = A.intersection(B.symmetric_difference(A))\n",
    "print(f\"A \\\\ B = {result1}\")\n",
    "print(f\"Expected: {result1_expected}\")\n",
    "\n",
    "# B = (B ∩ A) ∪ (B ∩ A^c)\n",
    "result2 = B\n",
    "result2_expected = (B.intersection(A)).union(B.intersection(A.symmetric_difference(A)))\n",
    "print(f\"B = {result2}\")\n",
    "print(f\"Expected: {result2_expected}\")\n",
    "\n",
    "# B \\ A = B ∩ A^c\n",
    "result3 = B - A\n",
    "result3_expected = B.intersection(A.symmetric_difference(A))\n",
    "print(f\"B \\\\ A = {result3}\")\n",
    "print(f\"Expected: {result3_expected}\")\n",
    "\n",
    "# A ∪ B = A ∪ (B ∩ A^c)\n",
    "result4 = A.union(B)\n",
    "result4_expected = A.union(B.intersection(A.symmetric_difference(A)))\n",
    "print(f\"A ∪ B = {result4}\")\n",
    "print(f\"Expected: {result4_expected}\")\n",
    "\n",
    "# ∪^∞i=1 A^c_i = ∩^∞i=1 A_i\n",
    "# For this, you'd typically use loops or list comprehensions.\n",
    "# This is a conceptual statement about infinite sets that cannot be directly coded in a finite program.\n",
    "\n",
    "# |A ∪ B = |A| + |B| - |A ∩ B|\n",
    "result5 = len(A.union(B))\n",
    "result5_expected = len(A) + len(B) - len(A.intersection(B))\n",
    "print(f\"|A ∪ B| = {result5}\")\n",
    "print(f\"Expected: {result5_expected}\")\n"
   ]
  },
  {
   "cell_type": "code",
   "execution_count": null,
   "id": "190b5175-4ed3-4f1c-9373-251ea0522b4d",
   "metadata": {},
   "outputs": [],
   "source": []
  },
  {
   "cell_type": "raw",
   "id": "80e28379-94b3-4121-bc7d-0c52847a1d7a",
   "metadata": {},
   "source": [
    "##2. Sets and Subsets"
   ]
  },
  {
   "cell_type": "code",
   "execution_count": null,
   "id": "db964fb4-4afd-4366-a303-6b22095c5221",
   "metadata": {},
   "outputs": [],
   "source": [
    "\\documentclass{article}\n",
    "\\usepackage{amsmath, amssymb}\n",
    "\n",
    "\\begin{document}\n",
    "\n",
    "\\section*{Question 1}\n",
    "\n",
    "Given sets:\n",
    "\\[\n",
    "A = \\{2, 3, 4, 5\\}, \\quad B = \\{x \\in \\mathbb{N} \\mid x \\text{ is even}\\}\n",
    "\\]\n",
    "\n",
    "\\textbf{To Prove:} \\(A \\subset B\\)\n",
    "\n",
    "\\textbf{Proof:}\n",
    "To prove \\(A \\subset B\\), we need to show that every element in set \\(A\\) is also in set \\(B\\), and there exists at least one element in set \\(B\\) that is not in set \\(A\\).\n",
    "\n",
    "\\begin{enumerate}\n",
    "  \\item For every element \\(a\\) in \\(A = \\{2, 3, 4, 5\\}\\), we check if \\(a\\) is even. Since \\(2\\) and \\(4\\) are even, they are in set \\(B\\).\n",
    "  \n",
    "  \\item However, \\(3\\) and \\(5\\) are not even, so they are not in set \\(B\\). This means \\(B\\) has elements that are not in \\(A\\).\n",
    "  \n",
    "  \\item Since there are elements in \\(A\\) that are not in \\(B\\) (i.e., \\(3\\) and \\(5\\)), and every element in \\(A\\) that is in \\(B\\) (i.e., \\(2\\) and \\(4\\)), we can conclude that \\(A \\subset B\\).\n",
    "\\end{enumerate}\n",
    "\n",
    "Hence, \\(A \\subset B\\) is true.\n",
    "\n",
    "\\section*{Question 2}\n",
    "\n",
    "Given sets:\n",
    "\\[\n",
    "\\begin{aligned}\n",
    "\\textbf{A} &= \\{x \\mid x \\in \\mathbb{Z}, 0 \\leq x \\leq 9\\}, \\\\\n",
    "\\textbf{B} &= \\{2, 4, 6, 8\\}, \\\\\n",
    "\\textbf{C} &= \\{1, 3, 5, 7, 9\\}, \\\\\n",
    "\\textbf{D} &= \\{3, 4, 5\\}\n",
    "\\end{aligned}\n",
    "\\]\n",
    "\n",
    "\\textbf{To Find:} A set \\(\\textbf{X}\\) which satisfies the given conditions:\n",
    "\n",
    "\\begin{enumerate}\n",
    "    \\item Disjointness with \\(\\textbf{B}\\): Choose \\(\\textbf{X} = \\{1, 3, 5, 7, 9\\}\\).\n",
    "    \\item Subset of \\(\\textbf{D}\\) but not \\(\\textbf{B}\\): Choose \\(\\textbf{X} = \\{1, 3, 5, 7, 9\\}\\).\n",
    "    \\item Subset of \\(\\textbf{A}\\) but not a proper subset of \\(\\textbf{C}\\): Choose \\(\\textbf{X} = \\{0, 2, 4, 6, 8\\}\\).\n",
    "\\end{enumerate}\n",
    "\n",
    "This set \\(\\textbf{X}\\) meets all three conditions.\n",
    "\n",
    "\\end{document}\n"
   ]
  },
  {
   "cell_type": "code",
   "execution_count": null,
   "id": "3d1e7784-4f98-438a-8f1c-875827fcc6d7",
   "metadata": {},
   "outputs": [],
   "source": []
  },
  {
   "cell_type": "raw",
   "id": "b100af0e-11c6-4b3d-abb9-be0811d1fad8",
   "metadata": {},
   "source": [
    "###3.Set Operations"
   ]
  },
  {
   "cell_type": "code",
   "execution_count": 25,
   "id": "eb483a11-871d-4ce2-9427-c0e02ee6ed9c",
   "metadata": {},
   "outputs": [
    {
     "name": "stdout",
     "output_type": "stream",
     "text": [
      "Solution 1 (C ⊕ D): {1, 3, 6, 8}\n",
      "Solution 2 (A \\ B): {1, 2, 3}\n",
      "Solution 3 (B \\ A): {6, 7}\n",
      "Solution 4 (E ⊕ F): {1, 2, 4, 5, 6, 8, 9}\n"
     ]
    }
   ],
   "source": [
    "# in python\n",
    "# Given sets\n",
    "U = {1, 2, 3, 4, 5}\n",
    "A = {1, 2, 3, 4, 5}\n",
    "B = {4, 5, 6, 7}\n",
    "C = {5, 6, 7, 8, 9}\n",
    "D = {1, 3, 5, 7, 9}\n",
    "E = {2, 4, 6, 8}\n",
    "F = {1, 5, 9}\n",
    "\n",
    "# Solutions\n",
    "solution1 = C.symmetric_difference(D)\n",
    "solution2 = A - B\n",
    "solution3 = B - A\n",
    "solution4 = E.symmetric_difference(F)\n",
    "\n",
    "print(\"Solution 1 (C ⊕ D):\", solution1)\n",
    "print(\"Solution 2 (A \\\\ B):\", solution2)\n",
    "print(\"Solution 3 (B \\\\ A):\", solution3)\n",
    "print(\"Solution 4 (E ⊕ F):\", solution4)\n"
   ]
  },
  {
   "cell_type": "markdown",
   "id": "bf9e4462-f5ab-4b26-9320-95f01778f816",
   "metadata": {},
   "source": [
    "# in Latex\n",
    "Given_sets:\n",
    "- \\(\\textbf{U} = \\{1,2,3,4,5\\}\\)\n",
    "- \\(\\textbf{A} = \\{1,2,3,4,5\\}\\)\n",
    "- \\(\\textbf{B} = \\{4,5,6,7\\}\\)\n",
    "- \\(\\textbf{C} = \\{5,6,7,8,9\\}\\)\n",
    "- \\(\\textbf{D} = \\{1,3,5,7,9\\}\\)\n",
    "- \\(\\textbf{E} = \\{2,4,6,8\\}\\)\n",
    "- \\(\\textbf{F} = \\{1,5,9\\}\\)\n",
    "\n",
    "Solutions:\n",
    "\n",
    "1. \\(\\textbf{C} \\oplus \\textbf{D}\\) (Symmetric Difference):\n",
    "   \\(\\textbf{C} \\oplus \\textbf{D} = \\{6,7,8\\}\\)\n",
    "\n",
    "2. \\(\\textbf{A} \\backslash \\textbf{B}\\) (Set Difference):\n",
    "   \\(\\textbf{A} \\backslash \\textbf{B} = \\{1,2,3\\}\\)\n",
    "\n",
    "3. \\(\\textbf{B} \\backslash \\textbf{A}\\) (Set Difference):\n",
    "   \\(\\textbf{B} \\backslash \\textbf{A} = \\{6,7\\}\\)\n",
    "\n",
    "4. \\(\\textbf{E} \\oplus \\textbf{F}\\) (Symmetric Difference):\n",
    "   \\(\\textbf{E} \\oplus \\textbf{F} = \\{1,2,4,6,8,9\\}\\)"
   ]
  },
  {
   "cell_type": "code",
   "execution_count": null,
   "id": "140c87b4-8164-48bf-a59d-9d8dcc79d654",
   "metadata": {},
   "outputs": [],
   "source": []
  },
  {
   "cell_type": "raw",
   "id": "7aab05b9-0750-44ac-ad9c-66b930c5af51",
   "metadata": {},
   "source": [
    "####4. Finite Set and The Counting Principle"
   ]
  },
  {
   "cell_type": "code",
   "execution_count": null,
   "id": "b0d4acfd-8026-481a-9e2f-2dc0d1066abd",
   "metadata": {},
   "outputs": [],
   "source": [
    "#4.2"
   ]
  },
  {
   "cell_type": "code",
   "execution_count": 13,
   "id": "c53ba694-e311-40bb-8040-687b0bd4783a",
   "metadata": {},
   "outputs": [
    {
     "data": {
      "image/png": "[encoded data removed]",
      "text/plain": [
       "<Figure size 640x480 with 1 Axes>"
      ]
     },
     "metadata": {},
     "output_type": "display_data"
    },
    {
     "name": "stdout",
     "output_type": "stream",
     "text": [
      "Number of people who read at least one magazine: 124\n",
      "Number of people who read exactly one magazine: 56\n"
     ]
    }
   ],
   "source": [
    "import matplotlib.pyplot as plt\n",
    "from matplotlib_venn import venn3\n",
    "\n",
    "# Given information\n",
    "total_people = 120\n",
    "newsweek = 65\n",
    "times = 45\n",
    "fortune = 42\n",
    "newsweek_times = 20\n",
    "newsweek_fortune = 25\n",
    "times_fortune = 15\n",
    "all_three = 8\n",
    "\n",
    "venn = venn3(subsets=(newsweek - newsweek_times - newsweek_fortune + all_three,\n",
    "                      times - newsweek_times - times_fortune + all_three,\n",
    "                      newsweek_times - all_three,\n",
    "                      fortune - newsweek_fortune - times_fortune + all_three,\n",
    "                      times_fortune - all_three,\n",
    "                      newsweek_fortune - all_three,\n",
    "                      all_three),\n",
    "             set_labels=('Newsweek', 'Time', 'Fortune'))\n",
    "\n",
    "plt.title(\"Venn Diagram of Magazine Readers\")\n",
    "plt.show()\n",
    "\n",
    "# Calculate the number of people who read at least one magazine\n",
    "people_at_least_one = (newsweek - newsweek_times - newsweek_fortune + all_three) + \\\n",
    "                      (times - newsweek_times - times_fortune + all_three) + \\\n",
    "                      (fortune - newsweek_fortune - times_fortune + all_three) + \\\n",
    "                      newsweek_times + times_fortune + newsweek_fortune + all_three\n",
    "\n",
    "print(\"Number of people who read at least one magazine:\", people_at_least_one)\n",
    "\n",
    "# Calculate the number of people who read exactly one magazine\n",
    "people_exactly_one = (newsweek - newsweek_times - newsweek_fortune + all_three) + \\\n",
    "                     (times - newsweek_times - times_fortune + all_three) + \\\n",
    "                     (fortune - newsweek_fortune - times_fortune + all_three)\n",
    "\n",
    "print(\"Number of people who read exactly one magazine:\", people_exactly_one)"
   ]
  },
  {
   "cell_type": "code",
   "execution_count": null,
   "id": "61691a0b-e15b-4aa9-b03d-2128b68a3127",
   "metadata": {},
   "outputs": [],
   "source": [
    "#4.1"
   ]
  },
  {
   "cell_type": "code",
   "execution_count": 14,
   "id": "2fa55a51-247b-4e57-840e-6a0789973ba3",
   "metadata": {},
   "outputs": [
    {
     "data": {
      "image/png": "[encoded data removed]",
      "text/plain": [
       "<Figure size 640x480 with 1 Axes>"
      ]
     },
     "metadata": {},
     "output_type": "display_data"
    },
    {
     "name": "stdout",
     "output_type": "stream",
     "text": [
      "Number of people who read at least one of the 3 magazines: 100\n",
      "Total number of people who read at exactly one magazine: 56\n"
     ]
    }
   ],
   "source": [
    "from matplotlib_venn import venn3, venn3_circles\n",
    "import matplotlib.pyplot as plt\n",
    "\n",
    "# Given data\n",
    "newsweek_only = 65\n",
    "times_only = 45\n",
    "fortune_only = 42\n",
    "newsweek_and_times = 20\n",
    "newsweek_and_fortune = 25\n",
    "times_and_fortune = 15\n",
    "all_three = 8\n",
    "\n",
    "#Let X be the people who read at least one of the three magazines\n",
    "X = 65 + 45 + 42 - 25 - 20 - 15 + 8\n",
    "\n",
    "#Let Y be the total of people who have read exactly one magazine\n",
    "fortune_readers = 42 - 25 - 15 + 8\n",
    "newsweek_readers = 65 - 25 - 20 + 8\n",
    "times_readers = 45 - 15 -20 + 8\n",
    "Y = fortune_readers + newsweek_readers + times_readers\n",
    "\n",
    "# Create the Venn diagram\n",
    "venn = venn3(subsets=(newsweek_only, times_only, newsweek_and_times,\n",
    "                      fortune_only, newsweek_and_fortune, times_and_fortune, all_three),\n",
    "             set_labels=('Newsweek', 'Times', 'Fortune'))\n",
    "\n",
    "# Draw circles for the universal set\n",
    "venn_circles = venn3_circles(subsets=(newsweek_only, times_only, newsweek_and_times,\n",
    "                                      fortune_only, newsweek_and_fortune, times_and_fortune, all_three))\n",
    "venn_circles[0].set_lw(1.0)  # Set line width for circle 1\n",
    "venn_circles[1].set_lw(1.0)  # Set line width for circle 2\n",
    "venn_circles[2].set_lw(1.0)  # Set line width for circle 3\n",
    "\n",
    "plt.title(\"Venn Diagram of Magazines\")\n",
    "plt.show()\n",
    "\n",
    "print(\"Number of people who read at least one of the 3 magazines:\", X)\n",
    "print(\"Total number of people who read at exactly one magazine:\", Y)"
   ]
  },
  {
   "cell_type": "code",
   "execution_count": null,
   "id": "e426410a-a858-464e-b27a-90775bf03d03",
   "metadata": {},
   "outputs": [],
   "source": []
  },
  {
   "cell_type": "code",
   "execution_count": null,
   "id": "ef20f1e1-a5fe-41cd-8219-b39d0dcd4881",
   "metadata": {},
   "outputs": [],
   "source": [
    "#4.2"
   ]
  },
  {
   "cell_type": "code",
   "execution_count": 9,
   "id": "c37cdbfe-7ff5-490c-98b1-f52e92b7aca8",
   "metadata": {},
   "outputs": [
    {
     "data": {
      "image/png": "[encoded data removed]",
      "text/plain": [
       "<Figure size 640x480 with 1 Axes>"
      ]
     },
     "metadata": {},
     "output_type": "display_data"
    },
    {
     "name": "stdout",
     "output_type": "stream",
     "text": [
      "W Cars: 11\n",
      "A Cars: 15\n",
      "R Cars: 12\n",
      "RW_not A Cars: 9\n",
      "AR_not W Cars: 12\n",
      "Number of cars with only one of the options: 11\n",
      "Number of cars with at least one option: 23\n",
      "Number of cars with none of the Options: 2\n"
     ]
    }
   ],
   "source": [
    "from matplotlib_venn import venn2, venn2_circles, venn2_unweighted\n",
    "from matplotlib_venn import venn3, venn3_circles\n",
    "from matplotlib import pyplot as plt\n",
    "\n",
    "\n",
    "# Given data\n",
    "total_cars = 25\n",
    "A = 15\n",
    "R = 12\n",
    "W = 11\n",
    "AW = 5\n",
    "AR = 9\n",
    "RW = 4\n",
    "ARW = 3\n",
    "\n",
    "def drawVenn2(A,R,labels = ('A', 'R')):\n",
    "    '''\n",
    "    listing elements in Venn diagram of two sets\n",
    "    '''\n",
    "    v2=venn2([A,R],set_labels = labels);\n",
    "    v2.get_label_by_id('01').set_text(', '.join(map(str,A-R)))\n",
    "    v2.get_label_by_id('10').set_text(', '.join(map(str,R-A)))\n",
    "    if A&R:\n",
    "        v2.get_label_by_id('11').set_text(', '.join(map(str,A&R)))\n",
    "\n",
    "def drawVenn3(A,R,W,labels = ('A', 'R', 'W')):\n",
    "    '''\n",
    "    listing elements in Venn diagram of three sets, A, R, W\n",
    "    '''\n",
    "    v3=venn3([A,R,W],set_labels = labels);\n",
    "    if A-R-W:\n",
    "        v3.get_label_by_id('100').set_text('\\n'.join(map(str,A-R-W)))\n",
    "        v3.get_patch_by_id('100').set_alpha(0.6)\n",
    "        v3.get_patch_by_id('100').set_facecolor('Yellow')\n",
    "    if A&R-W:\n",
    "        v3.get_label_by_id('110').set_text('\\n'.join(map(str,A&R-W)))\n",
    "        v3.get_patch_by_id('110').set_alpha(0.3)\n",
    "        v3.get_patch_by_id('110').set_facecolor('Red')\n",
    "    if R-W-A:\n",
    "        v3.get_label_by_id('010').set_text('\\n'.join(map(str,R-W-A)))\n",
    "        v3.get_patch_by_id('010').set_alpha(0.6)\n",
    "        v3.get_patch_by_id('010').set_facecolor('Magenta')\n",
    "    if A&W-R:\n",
    "        v3.get_label_by_id('101').set_text('\\n'.join(map(str,A&W-R)))\n",
    "        v3.get_patch_by_id('101').set_alpha(0.3)\n",
    "        v3.get_patch_by_id('101').set_facecolor('Green')\n",
    "    if A&R&W:\n",
    "        v3.get_label_by_id('111').set_text('\\n'.join(map(str,A&R&W)))\n",
    "        v3.get_patch_by_id('111').set_alpha(0.1)\n",
    "        v3.get_patch_by_id('111').set_facecolor('Black')\n",
    "    if R&W-A:\n",
    "        v3.get_label_by_id('011').set_text('\\n'.join(map(str,R&W-A)))\n",
    "        v3.get_patch_by_id('011').set_alpha(0.3)\n",
    "        v3.get_patch_by_id('011').set_facecolor('Blue')\n",
    "    if W-R-A:\n",
    "        v3.get_label_by_id('001').set_text('\\n'.join(map(str,W-R-A)))\n",
    "        v3.get_patch_by_id('001').set_alpha(0.6)\n",
    "        v3.get_patch_by_id('001').set_facecolor('Cyan')\n",
    "\n",
    "# Draw the Venn diagram\n",
    "venn3(subsets=(15, 12, 11, 15 - 3, 12 - 3, 3, 11 - 3),\n",
    "      set_labels=('A', 'R', 'W'))\n",
    "plt.show()\n",
    "\n",
    "# Given information\n",
    "total_cars = 25\n",
    "n_A = 15\n",
    "n_R = 12\n",
    "n_W = 11\n",
    "n_AW = 5\n",
    "n_AR = 9\n",
    "n_RW = 4\n",
    "n_ARW = 3\n",
    "\n",
    "# Calculate the number of cars with only one option\n",
    "only_one_option = (n_A - n_AR - n_AW + n_ARW) + \\\n",
    "                  (n_R - n_AR - n_RW + n_ARW) + \\\n",
    "                  (n_W - n_AW - n_RW + n_ARW)\n",
    "\n",
    "# Calculate the number of cars with at least one option\n",
    "at_least_one_option = n_A + n_R + n_W - n_AR - n_AW - n_RW + n_ARW\n",
    "\n",
    "# Calculate the number of cars with none of the options\n",
    "none_of_the_options = total_cars - at_least_one_option\n",
    "\n",
    "\n",
    "# Print the correct values based on calculations\n",
    "print(\"W Cars:\", W)\n",
    "print(\"A Cars:\", A)\n",
    "print(\"R Cars:\", R)\n",
    "print(\"RW_not A Cars:\", R - ARW)\n",
    "print(\"AR_not W Cars:\", A - ARW)\n",
    "print(\"Number of cars with only one of the options:\", only_one_option)\n",
    "print(\"Number of cars with at least one option:\", at_least_one_option)\n",
    "print(\"Number of cars with none of the Options:\", none_of_the_options)"
   ]
  },
  {
   "cell_type": "code",
   "execution_count": null,
   "id": "f0e5db67-10d7-490c-963a-f0bc9f9385b0",
   "metadata": {},
   "outputs": [],
   "source": []
  },
  {
   "cell_type": "code",
   "execution_count": null,
   "id": "9f0388d9-fc1e-48b7-ad82-fafc8f0673b6",
   "metadata": {},
   "outputs": [],
   "source": []
  },
  {
   "cell_type": "code",
   "execution_count": null,
   "id": "cfdb850a-6753-4366-a658-a235ab24a139",
   "metadata": {},
   "outputs": [],
   "source": []
  }
 ],
 "metadata": {
  "kernelspec": {
   "display_name": "Python 3 (ipykernel)",
   "language": "python",
   "name": "python3"
  },
  "language_info": {
   "codemirror_mode": {
    "name": "ipython",
    "version": 3
   },
   "file_extension": ".py",
   "mimetype": "text/x-python",
   "name": "python",
   "nbconvert_exporter": "python",
   "pygments_lexer": "ipython3",
   "version": "3.11.5"
  }
 },
 "nbformat": 4,
 "nbformat_minor": 5
}
